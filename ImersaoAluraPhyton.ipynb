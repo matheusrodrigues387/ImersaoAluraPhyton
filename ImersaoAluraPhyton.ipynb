{
  "nbformat": 4,
  "nbformat_minor": 0,
  "metadata": {
    "colab": {
      "provenance": [],
      "authorship_tag": "ABX9TyN1hOJTiuGPKBeQIGYu1Jn4",
      "include_colab_link": true
    },
    "kernelspec": {
      "name": "python3",
      "display_name": "Python 3"
    },
    "language_info": {
      "name": "python"
    }
  },
  "cells": [
    {
      "cell_type": "markdown",
      "metadata": {
        "id": "view-in-github",
        "colab_type": "text"
      },
      "source": [
        "<a href=\"https://colab.research.google.com/github/matheusrodrigues387/ImersaoAluraPhyton/blob/main/ImersaoAluraPhyton.ipynb\" target=\"_parent\"><img src=\"https://colab.research.google.com/assets/colab-badge.svg\" alt=\"Open In Colab\"/></a>"
      ]
    },
    {
      "cell_type": "code",
      "execution_count": null,
      "metadata": {
        "colab": {
          "base_uri": "https://localhost:8080/"
        },
        "id": "o8VrAS7pPTjr",
        "outputId": "3d507e7f-7ada-4622-e342-d45c4197a9da"
      },
      "outputs": [
        {
          "output_type": "stream",
          "name": "stdout",
          "text": [
            "A palavra secreta tem 3 letras -> gerenciar e consultar bancos de dados relacionais.sql\n",
            "Acertou\n"
          ]
        }
      ],
      "source": [
        "import requests\n",
        "import random\n",
        "url_linguagens = 'https://raw.githubusercontent.com/guilhermeonrails/api-imersao-ia/main/words.json'\n",
        "response = requests.get(url_linguagens)\n",
        "dados_linguagens = response.json()\n",
        "valor_secreto = random.choice(dados_linguagens)\n",
        "palavra_secreta = valor_secreto['palavra']\n",
        "dica = valor_secreto['dica']\n",
        "chute = input(f'A palavra secreta tem {len(palavra_secreta)} letras -> {dica}')\n",
        "if chute == palavra_secreta:\n",
        "  print('Acertou')\n",
        "else:\n",
        "  print(f'Errou .... A palavra secreta era {palavra_secreta}')"
      ]
    },
    {
      "cell_type": "code",
      "source": [],
      "metadata": {
        "id": "8h-7usdTS1tk"
      },
      "execution_count": null,
      "outputs": []
    }
  ]
}